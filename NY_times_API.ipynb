{
 "cells": [
  {
   "cell_type": "markdown",
   "metadata": {},
   "source": [
    "**Call the NY Times archve API**\n",
    "- Below code shows how to use the NYTimes archive API\n",
    "- See source for how to use Free text API for sentiment analysis of headlines\n",
    "    - https://pythonalgos.com/ask-ai-has-covid-made-ny-times-headlines-more-negative/"
   ]
  },
  {
   "cell_type": "code",
   "execution_count": 3,
   "metadata": {},
   "outputs": [],
   "source": [
    "import requests\n",
    "import json\n",
    "import os\n",
    "from config import NYT_api_key\n",
    "\n",
    "month_dict = {\n",
    "    1: \"January\",\n",
    "    2: \"February\",\n",
    "    3: \"March\",\n",
    "    4: \"April\",\n",
    "    5: \"May\",\n",
    "    6: \"June\",\n",
    "    7: \"July\",\n",
    "    8: \"August\",\n",
    "    9: \"September\",\n",
    "    10: \"October\",\n",
    "    11: \"November\",\n",
    "    12: \"December\"\n",
    "}\n",
    "def get_month(year:int, month:int):\n",
    "    try:\n",
    "        url = f\"https://api.nytimes.com/svc/archive/v1/{year}/{month}.json?api-key={NYT_api_key}\"\n",
    "        res = requests.get(url)\n",
    "        json_dict = json.loads(res.text)\n",
    "\t  # print(docs[0].keys())\n",
    "        docs = json_dict[\"response\"][\"docs\"]\n",
    "    except:\n",
    "        print(\"Requested month not in archive\")\n",
    "        return\n",
    "    try:\n",
    "        os.mkdir(year)\n",
    "    except:\n",
    "        pass\n",
    "    filename = f\"{year}/{month_dict[month]}.json\"\n",
    "\n",
    "    # get types_of_material = \"News\" only\n",
    "    # get document_type = \"article\" only\n",
    "    new_docs = []\n",
    "    \n",
    "    for doc in docs:\n",
    "        if doc[\"type_of_material\"] == \"News\" and doc[\"document_type\"] == \"article\":\n",
    "            doc.pop(\"multimedia\")\n",
    "            doc.pop(\"_id\")\n",
    "            doc.pop(\"uri\")\n",
    "            new_docs.append(doc)\n",
    " \n",
    "\n",
    "    with open(filename, \"w\") as f:\n",
    "        json.dump(new_docs, f)\n",
    "\n",
    "def get_year(year:int):\n",
    "    # range(12) goes from 0 to 11\n",
    "    for i in range(12):\n",
    "        get_month(year, i+1)\n",
    " \n",
    "def get_years(years:list):\n",
    "    for year in years:\n",
    "        get_year(year)\n",
    "\n",
    "def download():\n",
    "    years = input(\"Which years do you want? Enter a Comma Separated List.\\n\")\n",
    "    yr_list = years.split(\",\")\n",
    "    print(yr_list)\n",
    "    get_years(yr_list)"
   ]
  },
  {
   "cell_type": "code",
   "execution_count": 7,
   "metadata": {},
   "outputs": [
    {
     "name": "stdout",
     "output_type": "stream",
     "text": [
      "['2021']\n",
      "Requested month not in archive\n"
     ]
    }
   ],
   "source": [
    "#Run this to get articles from years passed\n",
    "'''\n",
    "input list of years, will get info on articles for every month in those years.\n",
    "'''\n",
    "download()"
   ]
  },
  {
   "cell_type": "code",
   "execution_count": null,
   "metadata": {},
   "outputs": [],
   "source": []
  }
 ],
 "metadata": {
  "interpreter": {
   "hash": "b89b5cfaba6639976dc87ff2fec6d58faec662063367e2c229c520fe71072417"
  },
  "kernelspec": {
   "display_name": "Python 3.10.1 64-bit",
   "language": "python",
   "name": "python3"
  },
  "language_info": {
   "codemirror_mode": {
    "name": "ipython",
    "version": 3
   },
   "file_extension": ".py",
   "mimetype": "text/x-python",
   "name": "python",
   "nbconvert_exporter": "python",
   "pygments_lexer": "ipython3",
   "version": "3.10.1"
  },
  "orig_nbformat": 4
 },
 "nbformat": 4,
 "nbformat_minor": 2
}
